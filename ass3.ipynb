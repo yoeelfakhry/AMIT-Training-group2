{
 "cells": [
  {
   "cell_type": "code",
   "execution_count": 13,
   "id": "9a10dfc8",
   "metadata": {},
   "outputs": [],
   "source": [
    "# Write a function to count the number 4 in a given list.\n",
    "\n",
    "\n",
    "def counter(list):\n",
    "    count=0        #to count after it \n",
    "    for i in list:\n",
    "        if i==4:\n",
    "            count+=1\n",
    "    print('numbers of 4 are',count)    "
   ]
  },
  {
   "cell_type": "code",
   "execution_count": 14,
   "id": "04809512",
   "metadata": {},
   "outputs": [
    {
     "name": "stdout",
     "output_type": "stream",
     "text": [
      "numbers of 4 are 2\n"
     ]
    }
   ],
   "source": [
    "counter([2,4,3,5,6,3,4])"
   ]
  },
  {
   "cell_type": "code",
   "execution_count": 18,
   "id": "65e649b5",
   "metadata": {},
   "outputs": [],
   "source": [
    "#### write a  function to check whether a number is divisible by another number.\n",
    "def div(number1,number2):\n",
    "    \n",
    "    if number1%number2==0:  #check if it doesnt have float number\n",
    "        print('it can divided')\n",
    "    else:\n",
    "        print('it can divided but with float number')"
   ]
  },
  {
   "cell_type": "code",
   "execution_count": 19,
   "id": "4faa8ffa",
   "metadata": {},
   "outputs": [
    {
     "name": "stdout",
     "output_type": "stream",
     "text": [
      "it can divided\n"
     ]
    }
   ],
   "source": [
    "div(6,2)"
   ]
  },
  {
   "cell_type": "code",
   "execution_count": 20,
   "id": "4cb5106b",
   "metadata": {},
   "outputs": [
    {
     "name": "stdout",
     "output_type": "stream",
     "text": [
      "it can divided but with float number\n"
     ]
    }
   ],
   "source": [
    "div(8,3)"
   ]
  },
  {
   "cell_type": "code",
   "execution_count": 38,
   "id": "8237faec",
   "metadata": {},
   "outputs": [],
   "source": [
    "### write a function to find the maximum and minimum numbers from a sequence of numbers.\n",
    "def mm(x,y,z):\n",
    "    print ('the maximum number is',max(x,y,z))\n",
    "    print ('the minimum number is',min(x,y,z))"
   ]
  },
  {
   "cell_type": "code",
   "execution_count": 39,
   "id": "e68968a9",
   "metadata": {},
   "outputs": [
    {
     "name": "stdout",
     "output_type": "stream",
     "text": [
      "the maximum number is 12\n",
      "the minimum number is 3\n"
     ]
    }
   ],
   "source": [
    "mm(3,8,12)"
   ]
  },
  {
   "cell_type": "code",
   "execution_count": 43,
   "id": "b8367530",
   "metadata": {},
   "outputs": [],
   "source": [
    "### Write a Python function that takes two lists and returns True if they have at least one common member.\n",
    "\n",
    "def common(list1,list2):\n",
    "    x=0\n",
    "    for i in list1:\n",
    "        for j in list2:\n",
    "            if i==j:\n",
    "                x=1\n",
    "    if x==1:\n",
    "        print('true')\n",
    "    else:\n",
    "        print('false')\n",
    "        "
   ]
  },
  {
   "cell_type": "code",
   "execution_count": 44,
   "id": "8e9cda5c",
   "metadata": {},
   "outputs": [
    {
     "name": "stdout",
     "output_type": "stream",
     "text": [
      "true\n"
     ]
    }
   ],
   "source": [
    "common([1,2,4,5] ,[1,6,7,8])"
   ]
  },
  {
   "cell_type": "code",
   "execution_count": 5,
   "id": "bdfa859c",
   "metadata": {},
   "outputs": [],
   "source": [
    "### Write a Python function to calculate the factorial of a number (a non-negative integer).\n",
    "###The function accepts the number from the user\n",
    "def fact(x):\n",
    "    \n",
    "    if x==1:\n",
    "        return 1\n",
    "    else:\n",
    "        return x*fact(x-1)"
   ]
  },
  {
   "cell_type": "code",
   "execution_count": 6,
   "id": "32d210ae",
   "metadata": {},
   "outputs": [
    {
     "data": {
      "text/plain": [
       "24"
      ]
     },
     "execution_count": 6,
     "metadata": {},
     "output_type": "execute_result"
    }
   ],
   "source": [
    "fact(4)"
   ]
  },
  {
   "cell_type": "code",
   "execution_count": 57,
   "id": "1b721c72",
   "metadata": {},
   "outputs": [],
   "source": [
    "### Write a Python function to check whether a number is in a given range.\n",
    "### The range is from 3 to 11\n",
    "def check(x):\n",
    "    for i in range(3,12):\n",
    "        if i==x:\n",
    "            y=1\n",
    "    if y==1:\n",
    "        print('the number {} in the range'.format(x))\n",
    "    else:\n",
    "        print('the number {} is not in the range'.format(x))\n",
    "        "
   ]
  },
  {
   "cell_type": "code",
   "execution_count": 60,
   "id": "44f76cff",
   "metadata": {},
   "outputs": [
    {
     "name": "stdout",
     "output_type": "stream",
     "text": [
      "the number 3 in the range\n"
     ]
    }
   ],
   "source": [
    "check(3)"
   ]
  },
  {
   "cell_type": "code",
   "execution_count": 68,
   "id": "98c04440",
   "metadata": {},
   "outputs": [],
   "source": [
    "### Write a  program to create the multiplication table (from 1 to 10) of a number.\n",
    "def mult(number):\n",
    "    \n",
    "    for i in range(1,11):\n",
    "        x=number*i\n",
    "        print(x)"
   ]
  },
  {
   "cell_type": "code",
   "execution_count": 70,
   "id": "d2397fa8",
   "metadata": {},
   "outputs": [
    {
     "name": "stdout",
     "output_type": "stream",
     "text": [
      "10\n",
      "20\n",
      "30\n",
      "40\n",
      "50\n",
      "60\n",
      "70\n",
      "80\n",
      "90\n",
      "100\n"
     ]
    }
   ],
   "source": [
    "mult(10)"
   ]
  },
  {
   "cell_type": "code",
   "execution_count": 8,
   "id": "bed997b7",
   "metadata": {},
   "outputs": [],
   "source": [
    "#### LESSER OF TWO EVENS: Write a function that returns the lesser of two given numbers\n",
    "###  *if* both numbers are even, but returns the greater if one or both numbers are odd\n",
    "def lesser(number1,number2):\n",
    "    if number1 %2==0 and number2 %2==0:\n",
    "        print(min(number1,number2))\n",
    "    else: \n",
    "        print(max(number1,number2))\n"
   ]
  },
  {
   "cell_type": "code",
   "execution_count": 4,
   "id": "3201b6f9",
   "metadata": {},
   "outputs": [
    {
     "name": "stdout",
     "output_type": "stream",
     "text": [
      "2\n"
     ]
    }
   ],
   "source": [
    "lesser(2,4)"
   ]
  },
  {
   "cell_type": "code",
   "execution_count": 6,
   "id": "ef575f14",
   "metadata": {},
   "outputs": [
    {
     "name": "stdout",
     "output_type": "stream",
     "text": [
      "9\n"
     ]
    }
   ],
   "source": [
    "lesser(4,9)"
   ]
  },
  {
   "cell_type": "code",
   "execution_count": 9,
   "id": "454f5a3d",
   "metadata": {},
   "outputs": [
    {
     "name": "stdout",
     "output_type": "stream",
     "text": [
      "5\n"
     ]
    }
   ],
   "source": [
    "lesser(3,5)"
   ]
  },
  {
   "cell_type": "code",
   "execution_count": null,
   "id": "45f6d0ec",
   "metadata": {},
   "outputs": [],
   "source": []
  }
 ],
 "metadata": {
  "kernelspec": {
   "display_name": "Python 3 (ipykernel)",
   "language": "python",
   "name": "python3"
  },
  "language_info": {
   "codemirror_mode": {
    "name": "ipython",
    "version": 3
   },
   "file_extension": ".py",
   "mimetype": "text/x-python",
   "name": "python",
   "nbconvert_exporter": "python",
   "pygments_lexer": "ipython3",
   "version": "3.9.12"
  }
 },
 "nbformat": 4,
 "nbformat_minor": 5
}
