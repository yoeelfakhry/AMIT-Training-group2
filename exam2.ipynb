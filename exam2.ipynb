{
 "cells": [
  {
   "cell_type": "code",
   "execution_count": 12,
   "id": "ff5dd61e",
   "metadata": {},
   "outputs": [
    {
     "name": "stdout",
     "output_type": "stream",
     "text": [
      "2\n"
     ]
    }
   ],
   "source": [
    "#### LESSER OF TWO EVENS: Write a function that returns the lesser of two given numbers \n",
    "#*if* both numbers are even, but returns the greater if one or both numbers are odd\n",
    "\n",
    "def lesser_of_two_evens(a,b):       #function that takes two number \n",
    "    if a%2==0 and b%2==0:           #check if  the number is even\n",
    "        print (min(a,b))            #print thw lesser number\n",
    "    else:                           #if the 2 number is odd or one even and another odd\n",
    "        print (max(a,b))            #print the maximum number \n",
    "lesser_of_two_evens(2,4)            #call the function \n",
    "\n"
   ]
  },
  {
   "cell_type": "code",
   "execution_count": 13,
   "id": "66a3f764",
   "metadata": {},
   "outputs": [
    {
     "name": "stdout",
     "output_type": "stream",
     "text": [
      "5\n"
     ]
    }
   ],
   "source": [
    "lesser_of_two_evens(2,5)"
   ]
  },
  {
   "cell_type": "code",
   "execution_count": 4,
   "id": "e4a9f966",
   "metadata": {},
   "outputs": [],
   "source": [
    "#### ANIMAL CRACKERS: Write a function takes a two-word string and returns True if both words begin with same letter\n",
    "def animal_crackers(text):  #function that takes a string\n",
    "    x=text.split()          #function that seperate the sentence\n",
    "    for i in x:             #loop to point the every letter in the words\n",
    "        if i[0][0]==i[1][0]:#check if the first letter of the first word equal the fisrt letter of the word two\n",
    "            print('true')   #print true\n",
    "        "
   ]
  },
  {
   "cell_type": "code",
   "execution_count": 5,
   "id": "cdaf0091",
   "metadata": {},
   "outputs": [],
   "source": [
    "animal_crackers('Levelheaded Llama')"
   ]
  },
  {
   "cell_type": "code",
   "execution_count": 14,
   "id": "c7609a64",
   "metadata": {},
   "outputs": [],
   "source": [
    "#### MAKES TWENTY: Given two integers, return True if the sum of the integers is 20 *or* if one of the integers is 20.\n",
    "#If not, return False\n",
    "def makes_twenty(n1,n2): #function takes 2 number\n",
    "    if n1==20 or n2==20: #check if the n1 or n2 equal 20 \n",
    "        print('True')    #print true\n",
    "    elif n1+n2==20:      #check if the summition equal 20\n",
    "        print('True')    #print true\n",
    "    else:                # if the summition of 2 number not equal 20 or the n1 or n2 doent equal 20\n",
    "        print('false')   #print false\n"
   ]
  },
  {
   "cell_type": "code",
   "execution_count": null,
   "id": "95c3bc8c",
   "metadata": {},
   "outputs": [],
   "source": []
  },
  {
   "cell_type": "code",
   "execution_count": 15,
   "id": "d91b42ff",
   "metadata": {},
   "outputs": [
    {
     "name": "stdout",
     "output_type": "stream",
     "text": [
      "True\n"
     ]
    }
   ],
   "source": [
    "makes_twenty(20,10)"
   ]
  },
  {
   "cell_type": "code",
   "execution_count": 16,
   "id": "fb1cf6e4",
   "metadata": {},
   "outputs": [
    {
     "name": "stdout",
     "output_type": "stream",
     "text": [
      "false\n"
     ]
    }
   ],
   "source": [
    "makes_twenty(2,3)"
   ]
  },
  {
   "cell_type": "code",
   "execution_count": 28,
   "id": "beaa1675",
   "metadata": {},
   "outputs": [],
   "source": [
    "#### OLD MACDONALD: Write a function that capitalizes the first and fourth letters of a name\n",
    "def old_macdonald(name):\n",
    "    for i in name:\n"
   ]
  },
  {
   "cell_type": "code",
   "execution_count": 29,
   "id": "0a227845",
   "metadata": {},
   "outputs": [
    {
     "ename": "NameError",
     "evalue": "name 'capitalize' is not defined",
     "output_type": "error",
     "traceback": [
      "\u001b[1;31m---------------------------------------------------------------------------\u001b[0m",
      "\u001b[1;31mNameError\u001b[0m                                 Traceback (most recent call last)",
      "Input \u001b[1;32mIn [29]\u001b[0m, in \u001b[0;36m<cell line: 1>\u001b[1;34m()\u001b[0m\n\u001b[1;32m----> 1\u001b[0m \u001b[43mold_macdonald\u001b[49m\u001b[43m(\u001b[49m\u001b[38;5;124;43m'\u001b[39;49m\u001b[38;5;124;43mmacdonald\u001b[39;49m\u001b[38;5;124;43m'\u001b[39;49m\u001b[43m)\u001b[49m\n",
      "Input \u001b[1;32mIn [28]\u001b[0m, in \u001b[0;36mold_macdonald\u001b[1;34m(name)\u001b[0m\n\u001b[0;32m      2\u001b[0m \u001b[38;5;28;01mdef\u001b[39;00m \u001b[38;5;21mold_macdonald\u001b[39m(name):\n\u001b[0;32m      3\u001b[0m     \u001b[38;5;28;01mfor\u001b[39;00m i \u001b[38;5;129;01min\u001b[39;00m name:\n\u001b[1;32m----> 4\u001b[0m         \u001b[43mcapitalize\u001b[49m(i)\n\u001b[0;32m      5\u001b[0m         \u001b[38;5;28mprint\u001b[39m(i)\n",
      "\u001b[1;31mNameError\u001b[0m: name 'capitalize' is not defined"
     ]
    }
   ],
   "source": [
    "old_macdonald('macdonald')"
   ]
  },
  {
   "cell_type": "code",
   "execution_count": 5,
   "id": "e892a0ee",
   "metadata": {},
   "outputs": [],
   "source": [
    "#### ALMOST THERE: Given an integer n, return True if n is within 10 of either 100 or 200\n",
    "def almost_there(n):           # function takes number\n",
    "    if n>90  and n<110:            #ckeck if the number between 90 and 110 \n",
    "        print('True')              #print true \n",
    "    elif n>190 and n<210:          #check if the number between 190 and 210\n",
    "        print('True')             #print true \n",
    "    else:                          #the number is not between the 2 above ranges\n",
    "        print('false')"
   ]
  },
  {
   "cell_type": "code",
   "execution_count": 2,
   "id": "32f25bc2",
   "metadata": {},
   "outputs": [
    {
     "name": "stdout",
     "output_type": "stream",
     "text": [
      "True\n"
     ]
    }
   ],
   "source": [
    "almost_there(104)"
   ]
  },
  {
   "cell_type": "code",
   "execution_count": 3,
   "id": "81af67a5",
   "metadata": {},
   "outputs": [
    {
     "name": "stdout",
     "output_type": "stream",
     "text": [
      "false\n"
     ]
    }
   ],
   "source": [
    "almost_there(150)"
   ]
  },
  {
   "cell_type": "code",
   "execution_count": 6,
   "id": "1adf210b",
   "metadata": {},
   "outputs": [
    {
     "name": "stdout",
     "output_type": "stream",
     "text": [
      "True\n"
     ]
    }
   ],
   "source": [
    "almost_there(209)"
   ]
  },
  {
   "cell_type": "code",
   "execution_count": 11,
   "id": "919cf7ae",
   "metadata": {},
   "outputs": [],
   "source": [
    "#### FIND 33: \n",
    "\n",
    "#Given a list of ints, return True if the array contains a 3 next to a 3 somewhere.\n",
    "def has_33(list): #function that takes a list of numbers\n",
    "    \n",
    "    for i in list:    #loop tp point the number in the list \n",
    "        if i==3:       #condition that if i equal 3\n",
    "            if i+1==3: #a condition if the next i equal 3\n",
    "                x=True #assign in x true\n",
    "    if x==True :        \n",
    "        print('True')\n",
    "\n",
    "has_33([1, 3, 3])  "
   ]
  },
  {
   "cell_type": "code",
   "execution_count": null,
   "id": "f505a500",
   "metadata": {},
   "outputs": [],
   "source": []
  },
  {
   "cell_type": "code",
   "execution_count": 28,
   "id": "a86332df",
   "metadata": {},
   "outputs": [],
   "source": [
    "#### PAPER DOLL: Given a string, return a string where for every character in the original there are three characters\n",
    "def paper_doll(text): #function take a name\n",
    "    t=''              #to put the name on it \n",
    "    for i in text:    #to piont in the every letter\n",
    "        t+=i*3        #multiply the letter 3 times\n",
    "    return t          #print the name"
   ]
  },
  {
   "cell_type": "code",
   "execution_count": 29,
   "id": "22b09682",
   "metadata": {},
   "outputs": [
    {
     "data": {
      "text/plain": [
       "'HHHeeellllllooo'"
      ]
     },
     "execution_count": 29,
     "metadata": {},
     "output_type": "execute_result"
    }
   ],
   "source": [
    "paper_doll('Hello')"
   ]
  },
  {
   "cell_type": "code",
   "execution_count": 30,
   "id": "ad8c10b3",
   "metadata": {},
   "outputs": [
    {
     "data": {
      "text/plain": [
       "'MMMiiissssssiiissssssiiippppppiii'"
      ]
     },
     "execution_count": 30,
     "metadata": {},
     "output_type": "execute_result"
    }
   ],
   "source": [
    "paper_doll('Mississippi')"
   ]
  },
  {
   "cell_type": "code",
   "execution_count": 6,
   "id": "b5dca722",
   "metadata": {},
   "outputs": [],
   "source": [
    "#### BLACKJACK: Given three integers between 1 and 11, if their sum is less than or equal to 21,\n",
    "#return their sum. If their sum exceeds 21 *and* there's an eleven, reduce the total sum by 10. Finally, \n",
    "#if the sum (even after adjustment) exceeds 21, return 'BUST'\n",
    "def blackjack(a,b,c):\n",
    "    if a and b and c in range (1,12):\n",
    "        x=a+b+c\n",
    "        if x >=21:\n",
    "            print (x)\n",
    "        "
   ]
  },
  {
   "cell_type": "code",
   "execution_count": 7,
   "id": "7c08273e",
   "metadata": {},
   "outputs": [],
   "source": [
    "blackjack(3,6,9)"
   ]
  },
  {
   "cell_type": "code",
   "execution_count": 4,
   "id": "9b93339e",
   "metadata": {},
   "outputs": [],
   "source": [
    "#### SUMMER OF '69: Return the sum of the numbers in the array, \n",
    "#except ignore sections of numbers starting with a 6 and extending to the next 9 (every 6 will be followed by at least one 9).\n",
    "#Return 0 for no numbers.\n",
    "\n",
    "def summer_69(list):       #fumction takes list of number\n",
    "    \n",
    "        x=0                #variable to count on it\n",
    "        y=[6,7,8,9]        #variable takes a 6,7,8,9\n",
    "        for i in list:     #make loop to piont each number in list\n",
    "            if i not in y: #ckeck if  the number in the list 6,7,8,9\n",
    "                x+=in      #add one on the variable if the condtion is true\n",
    "        print(x)           # print x\n",
    "\n"
   ]
  },
  {
   "cell_type": "code",
   "execution_count": 8,
   "id": "1e189f8f",
   "metadata": {},
   "outputs": [
    {
     "name": "stdout",
     "output_type": "stream",
     "text": [
      "9\n"
     ]
    }
   ],
   "source": [
    "summer_69([4, 5, 6, 7, 8, 9])"
   ]
  },
  {
   "cell_type": "code",
   "execution_count": 9,
   "id": "0b0acd9c",
   "metadata": {},
   "outputs": [
    {
     "name": "stdout",
     "output_type": "stream",
     "text": [
      "14\n"
     ]
    }
   ],
   "source": [
    "summer_69([2, 1, 6, 9, 11])"
   ]
  },
  {
   "cell_type": "code",
   "execution_count": 12,
   "id": "e6205f72",
   "metadata": {},
   "outputs": [],
   "source": [
    "#### COUNT PRIMES: Write a function that returns the *number* of prime numbers that exist up to and including a given number\n",
    "\n",
    "def count_primes(num):         # fumction that take a number\n",
    "    \n",
    "    x=0                        #variable to count on it\n",
    "    for i in range(2,num+1):   #loop from 2 the number that the user enter \n",
    "        if i%1==0 and i%==0:  #acondition to check if the number can devided by one and it self\n",
    "            x+=1               #add one on the variable if the condtion is true\n",
    "    print (x)"
   ]
  },
  {
   "cell_type": "code",
   "execution_count": 13,
   "id": "0c3e038f",
   "metadata": {},
   "outputs": [
    {
     "name": "stdout",
     "output_type": "stream",
     "text": [
      "99\n"
     ]
    }
   ],
   "source": [
    "count_primes(100)"
   ]
  },
  {
   "cell_type": "code",
   "execution_count": null,
   "id": "6a6b5331",
   "metadata": {},
   "outputs": [],
   "source": []
  }
 ],
 "metadata": {
  "kernelspec": {
   "display_name": "Python 3 (ipykernel)",
   "language": "python",
   "name": "python3"
  },
  "language_info": {
   "codemirror_mode": {
    "name": "ipython",
    "version": 3
   },
   "file_extension": ".py",
   "mimetype": "text/x-python",
   "name": "python",
   "nbconvert_exporter": "python",
   "pygments_lexer": "ipython3",
   "version": "3.9.12"
  }
 },
 "nbformat": 4,
 "nbformat_minor": 5
}
